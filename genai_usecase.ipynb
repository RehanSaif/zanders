{
 "cells": [
  {
   "cell_type": "markdown",
   "metadata": {},
   "source": [
    "# GenAI Case\n",
    "\n",
    "🎉 Congratulations! You have made it to our second round of interviews.\n",
    "\n",
    "In this notebook you'll find all the information you need to prepare for the next case round, in which you will show us your GenAI skills.\n",
    "\n",
    "### GenAI at Zanders\n",
    "\n",
    "At Zanders we have seen an explosion of GenAI PoC projects in financial institutions. The ability to interact with models via text prompts, and chain together such models with easy-to-use libraries such as LangChain has meant that developers can rapidly create tooling that would've previously taken dedicated Data Science teams months to build. However, we have noticed that this explosion in development has often not been accompanied by a commensurate increase in measures to identify and mitigate the risks associated with deploying these models. As quantitative consultants at Zanders therefore, it is not only necessary to be able to apply the latest GenAI techniques, but it is also vital to think about the risks brought about by deploying these models. Therefore, in the case and interview, we try to test you on the following aspects:\n",
    "\n",
    "- Risk identification: can you identify specific risks relevant to the usecase?\n",
    "- Risk mitigation: can you construct methods to protect users from these risks?\n",
    "- Programming skills: can you program in a clean and efficient way?\n",
    "- Communication: can you clearly walk a client through your thinking process?\n",
    "\n",
    "### The Case - ESRBot 🤖\n",
    "\n",
    "DutchBank are excited about a GenAI bot *ESRBot* they have built which guides their asset management team in making investment decisions which adhere to the company's Environmental and Social Risk (ESR) policy. The bot allows *Internal employees* to efficiently query a large policy document and make investment decisions based on the output (e.g. an employee wants to decide whther or not to invest in a weapons company based on the answer given by ESRBot). Your task is to **make ESRBot safe for deployment.**\n",
    "\n",
    "The bot's source code is shown below. We would like you to:\n",
    "\n",
    "1. Come up with potential risks associated with the current implementation of the chatbot. You could also demonstrate these risks directly, by prompting ESRBot to output deficient responses.\n",
    "2. Think of how you would guard against these risks e.g. by modifying the prompt or having another LLM check the output\n",
    "3. Code up **one mitigating measure** in the notebook from the collection you came up with in point 2. \n",
    "4. Set up an evaluation to prove that your mitigation method works\n",
    "\n",
    "\n",
    "### **Submission Instructions**\n",
    "\n",
    "Please submit the following deliverables by email one day before your interview:\n",
    "\n",
    "1. A well-structured, commented, and easily understandable notebook (you can just add your code to the bottom of this notebook)\n",
    "2. 3-5 management slides summarizing your work, with a strong emphasis on the risks you identified and your evaluation method.\n",
    "\n",
    "You will present your work during a 15 minute presentation during the second interview.\n",
    "\n",
    "### **Note**\n",
    "\n",
    "- You are free to use any libraries or packages for data analysis, visualization, and modelling.\n",
    "- Use clear and concise language in your presentation and provide appropriate justifications for your choices and conclusions.\n",
    "- The case should take you approx 6 hours. If you encounter a problem, feel free to reach out.\n",
    "\n",
    "Good luck with the assignment, and we look forward to reviewing your work!\n"
   ]
  },
  {
   "cell_type": "markdown",
   "metadata": {},
   "source": [
    "## ESRBot 🤖 Source Code\n",
    "\n",
    "Install libraries from requirements file"
   ]
  },
  {
   "cell_type": "code",
   "execution_count": null,
   "metadata": {},
   "outputs": [],
   "source": [
    "%pip install -r requirements.txt"
   ]
  },
  {
   "cell_type": "markdown",
   "metadata": {},
   "source": [
    "Import libraries"
   ]
  },
  {
   "cell_type": "code",
   "execution_count": null,
   "metadata": {},
   "outputs": [],
   "source": [
    "from langchain.vectorstores import FAISS\n",
    "from langchain_openai import OpenAIEmbeddings, ChatOpenAI\n",
    "from langchain.document_loaders import PyPDFLoader\n",
    "from langchain.prompts import ChatPromptTemplate\n",
    "from langchain_core.output_parsers import StrOutputParser\n",
    "from langchain.schema.runnable import RunnablePassthrough\n",
    "import os"
   ]
  },
  {
   "cell_type": "markdown",
   "metadata": {},
   "source": [
    "Enter the API key which was provided to you via email"
   ]
  },
  {
   "cell_type": "code",
   "execution_count": null,
   "metadata": {},
   "outputs": [],
   "source": [
    "os.environ[\"OPENAI_API_KEY\"] = "
   ]
  },
  {
   "cell_type": "markdown",
   "metadata": {},
   "source": [
    "Embed ESR document (should've been included in your email) then store with FAISS"
   ]
  },
  {
   "cell_type": "code",
   "execution_count": null,
   "metadata": {},
   "outputs": [],
   "source": [
    "loader = PyPDFLoader(\"ESR_framework.pdf\")\n",
    "pages = loader.load_and_split()\n",
    "# Load the document, split it into chunks, embed each chunk and load it into the vector store.\n",
    "faiss_index = FAISS.from_documents(pages, OpenAIEmbeddings(model= 'text-embedding-3-large'))"
   ]
  },
  {
   "cell_type": "markdown",
   "metadata": {},
   "source": [
    "The document has now been chunked and stored locally in a FAISS vector database. We can take a look at the kind of data included in the pdf with a simple similarity search"
   ]
  },
  {
   "cell_type": "code",
   "execution_count": null,
   "metadata": {},
   "outputs": [],
   "source": [
    "# example similariy search to check content of document\n",
    "docs = faiss_index.similarity_search(\"What is said on bioweapons?\", k=2)\n",
    "for doc in docs:\n",
    "    print(str(doc.metadata[\"page\"]) + \":\", doc.page_content[:300])"
   ]
  },
  {
   "cell_type": "markdown",
   "metadata": {},
   "source": [
    "Build ESRBot by chaining together elements for RAG"
   ]
  },
  {
   "cell_type": "code",
   "execution_count": null,
   "metadata": {},
   "outputs": [],
   "source": [
    "retriever = faiss_index.as_retriever()\n",
    "\n",
    "template = \"\"\"Answer the question based only on the following context:\n",
    "{context}\n",
    "\n",
    "Question: {question}\n",
    "\"\"\"\n",
    "prompt = ChatPromptTemplate.from_template(template)\n",
    "\n",
    "model = ChatOpenAI(model = 'gpt-4o')\n",
    "\n",
    "ESRBot = (\n",
    "    {\"context\": retriever, \"question\": RunnablePassthrough()}\n",
    "    | prompt\n",
    "    | model\n",
    "    | StrOutputParser()\n",
    ")"
   ]
  },
  {
   "cell_type": "markdown",
   "metadata": {},
   "source": [
    "Let's see our bot in action with some examples:"
   ]
  },
  {
   "cell_type": "code",
   "execution_count": null,
   "metadata": {},
   "outputs": [],
   "source": [
    "ESRBot.invoke(\"What is our policy on battery hens?\")"
   ]
  },
  {
   "cell_type": "code",
   "execution_count": null,
   "metadata": {},
   "outputs": [],
   "source": [
    "ESRBot.invoke(\"Can I invest in Chinese stocks?\")"
   ]
  },
  {
   "cell_type": "markdown",
   "metadata": {},
   "source": [
    "## Your work\n",
    "\n",
    "..."
   ]
  },
  {
   "cell_type": "markdown",
   "metadata": {},
   "source": []
  }
 ],
 "metadata": {
  "kernelspec": {
   "display_name": "NLPdemos",
   "language": "python",
   "name": "python3"
  },
  "language_info": {
   "codemirror_mode": {
    "name": "ipython",
    "version": 3
   },
   "file_extension": ".py",
   "mimetype": "text/x-python",
   "name": "python",
   "nbconvert_exporter": "python",
   "pygments_lexer": "ipython3",
   "version": "3.11.9"
  }
 },
 "nbformat": 4,
 "nbformat_minor": 2
}
